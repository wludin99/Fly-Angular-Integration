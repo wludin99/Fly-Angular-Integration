{
  "nbformat": 4,
  "nbformat_minor": 0,
  "metadata": {
    "colab": {
      "name": "Angular Integration Circuit.ipynb",
      "provenance": [],
      "authorship_tag": "ABX9TyMZKpiDp4WvZk5Zba5uRPTX",
      "include_colab_link": true
    },
    "kernelspec": {
      "name": "python3",
      "display_name": "Python 3"
    },
    "language_info": {
      "name": "python"
    }
  },
  "cells": [
    {
      "cell_type": "markdown",
      "metadata": {
        "id": "view-in-github",
        "colab_type": "text"
      },
      "source": [
        "<a href=\"https://colab.research.google.com/github/wludin99/Fly-Angular-Integration/blob/main/Angular_Integration_Circuit.ipynb\" target=\"_parent\"><img src=\"https://colab.research.google.com/assets/colab-badge.svg\" alt=\"Open In Colab\"/></a>"
      ]
    },
    {
      "cell_type": "code",
      "metadata": {
        "id": "2BofK8YnO00t"
      },
      "source": [
        "#class definitions for nistantiation and simulation of nancy lynch's spiking neural network model\n",
        "import numpy as np\n",
        "\n",
        "class Network:\n",
        "    '''describes whole network'''\n",
        "    '''nodes: dict of lc neuron:bias'''\n",
        "    '''inputs: dict of input neuron: input execution'''\n",
        "    '''edges: dictionary of (u,v):weight'''\n",
        "\n",
        "    def __init__(self, inputs, nodes, edges):\n",
        "        self.nodes = [Neuron(node, nodes[node]) for node in nodes]\n",
        "        self.state = {node:0 for node in nodes}\n",
        "\n",
        "    def step(self):\n",
        "        next_state = {node:np.random.binomial(n=1,p=node.prob()) for node in self.nodes}\n",
        "        self.state = next_state\n",
        "\n",
        "    def execute(self, steps=100):\n",
        "        for n in range(steps):\n",
        "            self.step()\n",
        "\n",
        "\n",
        "class Neuron:\n",
        "    '''describes single neuron'''\n",
        "\n",
        "    def __init__(self, bias, temp=1):\n",
        "        self.b = bias\n",
        "        self.temp = temp\n",
        "\n",
        "    def get_inputs(self, edges):\n",
        "        self.inputs = [u for (u,v) in edges if v==self]\n",
        "\n",
        "    def potential(self):\n",
        "        p = -self.b + sum([Network.edges[(u,self)] for u in self.inputs if net.state[u]])\n",
        "\n",
        "    def prob(self):\n",
        "        prob = 1/(1+e**(-self.potential()/self.temp))\n",
        "\n",
        "\n",
        "class Input:\n",
        "\n",
        "    def __init__(self, state):\n",
        "        self.state = state\n",
        "\n",
        "\n"
      ],
      "execution_count": null,
      "outputs": []
    },
    {
      "cell_type": "markdown",
      "metadata": {
        "id": "flahxF6ZPW1N"
      },
      "source": [
        "Now we define the network based on a simplified model of the fly's path integration circuit"
      ]
    },
    {
      "cell_type": "code",
      "metadata": {
        "id": "143MoqGLPVXD"
      },
      "source": [
        "\n",
        "\n",
        "inputs = {'cw':1, 'ccw':1}\n",
        "\n",
        "#neurons\n",
        "epgs = ['epg_' + str(n) for n in range(1,17)]\n",
        "pens = ['pen_' + str(n) for n in range(1,17)]\n",
        "delta_sevens = ['d7_' + str(n) for n in range(1,9)]\n",
        "\n",
        "neurons = epgs + pens + delta_sevens\n",
        "\n",
        "#edges\n",
        "epg_epg = [('epg_'+str(n),'epg_'+str(n+1)) for n in range(1,16)]\n",
        "epg_epg += [('epg_'+str(n+1),'epg_'+str(n)) for n in range(1,16)]\n",
        "epg_epg += [('epg_1','epg_16'),('epg_16','epg_1')]\n",
        "\n",
        "epg_pen = [('epg_'+str(n),'pen_'+str(n)) for n in range(1,9)]\n",
        "\n",
        "pen_epg = [('pen_'+str(n), 'epg_'+str(n+2)) for n in range(2,16) if 2|n else ('pen_'+str(n), 'epg_'+str(n-2))]\n",
        "pen_epg +=[('pen_1','epg_15'),('pen_16','epg_2')]\n",
        "\n",
        "epg_d7 = [('epg_'+str(n),'d7_'+str(m)) for m in range(1,9) for n in range(1,17) if n != m mod 8]\n",
        "\n",
        "d7_epg = [('d7_'+str(m),'epg_'+str(n)) for m in range(1,9) for n in range(1,17) if n == m mod 8]\n",
        "\n",
        "d7_pen = [('d7_'+str(m),'pen_'+str(n)) for m in range(1,9) for n in range(1,17) if n == m mod 8]\n",
        "\n",
        "inputs_pen = [('ccw','epg_'+str(n)) for n in range(1,17,2)]\n",
        "inputs_pen = [('cw','epg_'+str(n)) for n in range(2,17,2)]\n",
        "\n",
        "edges = epg_epg + epg_pen + pen_epg + epg_d7 + d7_epg + d7_pen + inputs_pen]]\n",
        "\n",
        "net = Network(inputs, nodes, edges)\n"
      ],
      "execution_count": null,
      "outputs": []
    }
  ]
}